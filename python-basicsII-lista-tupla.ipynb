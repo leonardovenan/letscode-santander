{
 "cells": [
  {
   "cell_type": "code",
   "execution_count": 2,
   "id": "8e3b04aa",
   "metadata": {},
   "outputs": [
    {
     "name": "stdout",
     "output_type": "stream",
     "text": [
      "['Brasil', 'Argentina', 'China', 'Canadá', 'Japão']\n"
     ]
    }
   ],
   "source": [
    "nomes_paises = ['Brasil', 'Argentina', 'China', 'Canadá', 'Japão']\n",
    "print(nomes_paises)"
   ]
  },
  {
   "cell_type": "code",
   "execution_count": 4,
   "id": "967e74fa",
   "metadata": {},
   "outputs": [
    {
     "name": "stdout",
     "output_type": "stream",
     "text": [
      "Tamanho da lista:  5\n"
     ]
    }
   ],
   "source": [
    "print('Tamanho da lista: ', len(nomes_paises))"
   ]
  },
  {
   "cell_type": "code",
   "execution_count": 5,
   "id": "e3b21074",
   "metadata": {},
   "outputs": [
    {
     "name": "stdout",
     "output_type": "stream",
     "text": [
      "País:  Japão\n"
     ]
    }
   ],
   "source": [
    "print('País: ',nomes_paises[4])"
   ]
  },
  {
   "cell_type": "code",
   "execution_count": 6,
   "id": "ccbe8bed",
   "metadata": {},
   "outputs": [
    {
     "name": "stdout",
     "output_type": "stream",
     "text": [
      "País:  Japão\n"
     ]
    }
   ],
   "source": [
    "print('País: ',nomes_paises[-1])"
   ]
  },
  {
   "cell_type": "code",
   "execution_count": 7,
   "id": "2e2160a4",
   "metadata": {},
   "outputs": [],
   "source": [
    "nomes_paises[4] = 'Colômbia'"
   ]
  },
  {
   "cell_type": "code",
   "execution_count": 8,
   "id": "9ad2a8c3",
   "metadata": {},
   "outputs": [
    {
     "data": {
      "text/plain": [
       "['Brasil', 'Argentina', 'China', 'Canadá', 'Colômbia']"
      ]
     },
     "execution_count": 8,
     "metadata": {},
     "output_type": "execute_result"
    }
   ],
   "source": [
    "nomes_paises"
   ]
  },
  {
   "cell_type": "code",
   "execution_count": 9,
   "id": "ae4002e9",
   "metadata": {},
   "outputs": [
    {
     "name": "stdout",
     "output_type": "stream",
     "text": [
      "['Argentina', 'China', 'Canadá']\n"
     ]
    }
   ],
   "source": [
    "print(nomes_paises[1:4])"
   ]
  },
  {
   "cell_type": "code",
   "execution_count": 10,
   "id": "3d1c74b2",
   "metadata": {},
   "outputs": [
    {
     "name": "stdout",
     "output_type": "stream",
     "text": [
      "['Argentina', 'China', 'Canadá']\n"
     ]
    }
   ],
   "source": [
    "n=5\n",
    "print(nomes_paises[1:n-1])"
   ]
  },
  {
   "cell_type": "code",
   "execution_count": 11,
   "id": "506b7a03",
   "metadata": {},
   "outputs": [
    {
     "name": "stdout",
     "output_type": "stream",
     "text": [
      "['Brasil', 'Argentina', 'China', 'Canadá']\n"
     ]
    }
   ],
   "source": [
    "print(nomes_paises[:n-1])"
   ]
  },
  {
   "cell_type": "code",
   "execution_count": 12,
   "id": "f8e3bd99",
   "metadata": {},
   "outputs": [
    {
     "name": "stdout",
     "output_type": "stream",
     "text": [
      "['Brasil', 'Argentina', 'China', 'Canadá', 'Colômbia']\n"
     ]
    }
   ],
   "source": [
    "print(nomes_paises[:])"
   ]
  },
  {
   "cell_type": "code",
   "execution_count": 13,
   "id": "adfff7fb",
   "metadata": {},
   "outputs": [
    {
     "name": "stdout",
     "output_type": "stream",
     "text": [
      "Brasil\n",
      "Argentina\n",
      "China\n",
      "Canadá\n",
      "Colômbia\n"
     ]
    }
   ],
   "source": [
    "for i in nomes_paises:\n",
    "    print (i)"
   ]
  },
  {
   "cell_type": "code",
   "execution_count": 15,
   "id": "8002f185",
   "metadata": {},
   "outputs": [
    {
     "name": "stdout",
     "output_type": "stream",
     "text": [
      "['Brasil', 'China', 'Colômbia']\n"
     ]
    }
   ],
   "source": [
    "print(nomes_paises[0:5:2]) #steps pulando itens da lista"
   ]
  },
  {
   "cell_type": "code",
   "execution_count": 16,
   "id": "596ea039",
   "metadata": {},
   "outputs": [
    {
     "name": "stdout",
     "output_type": "stream",
     "text": [
      "True\n"
     ]
    }
   ],
   "source": [
    "print('Brasil' in nomes_paises)"
   ]
  },
  {
   "cell_type": "code",
   "execution_count": 17,
   "id": "515a7a15",
   "metadata": {},
   "outputs": [],
   "source": [
    "lista_capitais = []"
   ]
  },
  {
   "cell_type": "code",
   "execution_count": 18,
   "id": "b20a136b",
   "metadata": {},
   "outputs": [],
   "source": [
    "lista_capitais.append('São Luís')"
   ]
  },
  {
   "cell_type": "code",
   "execution_count": 19,
   "id": "d7869f80",
   "metadata": {},
   "outputs": [
    {
     "data": {
      "text/plain": [
       "['São Luís']"
      ]
     },
     "execution_count": 19,
     "metadata": {},
     "output_type": "execute_result"
    }
   ],
   "source": [
    "lista_capitais"
   ]
  },
  {
   "cell_type": "code",
   "execution_count": 20,
   "id": "295ad79f",
   "metadata": {},
   "outputs": [],
   "source": [
    "lista_capitais.append('São Paulo')\n",
    "lista_capitais.append('Rio de Janeiro')\n",
    "lista_capitais.append('Curitiba')"
   ]
  },
  {
   "cell_type": "code",
   "execution_count": 21,
   "id": "09d4c3ca",
   "metadata": {},
   "outputs": [
    {
     "data": {
      "text/plain": [
       "['São Luís', 'São Paulo', 'Rio de Janeiro', 'Curitiba']"
      ]
     },
     "execution_count": 21,
     "metadata": {},
     "output_type": "execute_result"
    }
   ],
   "source": [
    "lista_capitais"
   ]
  },
  {
   "cell_type": "code",
   "execution_count": 22,
   "id": "f52fbf43",
   "metadata": {},
   "outputs": [],
   "source": [
    "lista_capitais.insert(2, 'Belém')"
   ]
  },
  {
   "cell_type": "code",
   "execution_count": 23,
   "id": "a736e28e",
   "metadata": {},
   "outputs": [
    {
     "data": {
      "text/plain": [
       "['São Luís', 'São Paulo', 'Belém', 'Rio de Janeiro', 'Curitiba']"
      ]
     },
     "execution_count": 23,
     "metadata": {},
     "output_type": "execute_result"
    }
   ],
   "source": [
    "lista_capitais"
   ]
  },
  {
   "cell_type": "code",
   "execution_count": 24,
   "id": "2f3ea4d1",
   "metadata": {},
   "outputs": [],
   "source": [
    "lista_capitais.remove('Belém')"
   ]
  },
  {
   "cell_type": "code",
   "execution_count": 25,
   "id": "623a8d7c",
   "metadata": {},
   "outputs": [
    {
     "data": {
      "text/plain": [
       "['São Luís', 'São Paulo', 'Rio de Janeiro', 'Curitiba']"
      ]
     },
     "execution_count": 25,
     "metadata": {},
     "output_type": "execute_result"
    }
   ],
   "source": [
    "lista_capitais"
   ]
  },
  {
   "cell_type": "code",
   "execution_count": 26,
   "id": "ca00c373",
   "metadata": {},
   "outputs": [
    {
     "data": {
      "text/plain": [
       "'Curitiba'"
      ]
     },
     "execution_count": 26,
     "metadata": {},
     "output_type": "execute_result"
    }
   ],
   "source": [
    "lista_capitais.pop(-1)"
   ]
  },
  {
   "cell_type": "code",
   "execution_count": 27,
   "id": "4a773904",
   "metadata": {},
   "outputs": [
    {
     "data": {
      "text/plain": [
       "['São Luís', 'São Paulo', 'Rio de Janeiro']"
      ]
     },
     "execution_count": 27,
     "metadata": {},
     "output_type": "execute_result"
    }
   ],
   "source": [
    "lista_capitais"
   ]
  },
  {
   "cell_type": "markdown",
   "id": "e1fb9349",
   "metadata": {},
   "source": [
    "# Tuplas"
   ]
  },
  {
   "cell_type": "code",
   "execution_count": 1,
   "id": "25651fbc",
   "metadata": {},
   "outputs": [],
   "source": [
    "nomes_paises = ('Brasil', 'Argentina', 'China', 'Canadá', 'Japão')"
   ]
  },
  {
   "cell_type": "code",
   "execution_count": 4,
   "id": "c7324aac",
   "metadata": {},
   "outputs": [
    {
     "name": "stdout",
     "output_type": "stream",
     "text": [
      "<class 'tuple'>\n"
     ]
    }
   ],
   "source": [
    "print(type(nomes_paises))"
   ]
  },
  {
   "cell_type": "code",
   "execution_count": 5,
   "id": "5cffabce",
   "metadata": {},
   "outputs": [
    {
     "name": "stdout",
     "output_type": "stream",
     "text": [
      "('Brasil', 'Argentina', 'China', 'Canadá', 'Japão')\n"
     ]
    }
   ],
   "source": [
    "print(nomes_paises)"
   ]
  },
  {
   "cell_type": "code",
   "execution_count": 6,
   "id": "95061fda",
   "metadata": {},
   "outputs": [],
   "source": [
    "#anpequing -> listas não fazem\n",
    "b, a , c, ca, j = nomes_paises"
   ]
  },
  {
   "cell_type": "code",
   "execution_count": 7,
   "id": "295b5c04",
   "metadata": {},
   "outputs": [
    {
     "name": "stdout",
     "output_type": "stream",
     "text": [
      "Brasil Argentina Japão\n"
     ]
    }
   ],
   "source": [
    "print(b, a, j)"
   ]
  },
  {
   "cell_type": "code",
   "execution_count": 9,
   "id": "ac6a27a1",
   "metadata": {},
   "outputs": [
    {
     "name": "stdout",
     "output_type": "stream",
     "text": [
      "Brasil Argentina China Canadá Japão\n"
     ]
    }
   ],
   "source": [
    "print(*nomes_paises) #desempacotamento"
   ]
  },
  {
   "cell_type": "code",
   "execution_count": null,
   "id": "ebd3a2b6",
   "metadata": {},
   "outputs": [],
   "source": []
  }
 ],
 "metadata": {
  "kernelspec": {
   "display_name": "Python 3 (ipykernel)",
   "language": "python",
   "name": "python3"
  },
  "language_info": {
   "codemirror_mode": {
    "name": "ipython",
    "version": 3
   },
   "file_extension": ".py",
   "mimetype": "text/x-python",
   "name": "python",
   "nbconvert_exporter": "python",
   "pygments_lexer": "ipython3",
   "version": "3.9.12"
  }
 },
 "nbformat": 4,
 "nbformat_minor": 5
}
