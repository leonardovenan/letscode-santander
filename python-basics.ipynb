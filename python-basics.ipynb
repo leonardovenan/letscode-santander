{
 "cells": [
  {
   "cell_type": "code",
   "execution_count": 1,
   "id": "444dd5f3",
   "metadata": {},
   "outputs": [
    {
     "name": "stdout",
     "output_type": "stream",
     "text": [
      "Hello world!\n"
     ]
    }
   ],
   "source": [
    "print(\"Hello world!\")"
   ]
  },
  {
   "cell_type": "markdown",
   "id": "43dfbe76",
   "metadata": {},
   "source": [
    "x = 5"
   ]
  },
  {
   "cell_type": "code",
   "execution_count": 4,
   "id": "e94af6a1",
   "metadata": {},
   "outputs": [],
   "source": [
    "x = 5"
   ]
  },
  {
   "cell_type": "code",
   "execution_count": 5,
   "id": "e753730b",
   "metadata": {},
   "outputs": [
    {
     "name": "stdout",
     "output_type": "stream",
     "text": [
      "5\n"
     ]
    }
   ],
   "source": [
    "print(x)"
   ]
  },
  {
   "cell_type": "code",
   "execution_count": 7,
   "id": "2692b10b",
   "metadata": {},
   "outputs": [
    {
     "name": "stdout",
     "output_type": "stream",
     "text": [
      "19.99 , <class 'float'>\n"
     ]
    }
   ],
   "source": [
    "preco = 19.99\n",
    "print(preco, \",\", type(preco))"
   ]
  },
  {
   "cell_type": "code",
   "execution_count": 8,
   "id": "45be40a6",
   "metadata": {},
   "outputs": [
    {
     "name": "stdout",
     "output_type": "stream",
     "text": [
      "19.99 , <class 'str'>\n"
     ]
    }
   ],
   "source": [
    "cidade = \"São Paulo\"\n",
    "print(preco,\",\", type(cidade))"
   ]
  },
  {
   "cell_type": "code",
   "execution_count": 9,
   "id": "ff1f9e00",
   "metadata": {},
   "outputs": [
    {
     "name": "stdout",
     "output_type": "stream",
     "text": [
      "True , <class 'bool'>\n"
     ]
    }
   ],
   "source": [
    "verdade = True\n",
    "print(verdade, \",\", type(verdade))"
   ]
  },
  {
   "cell_type": "code",
   "execution_count": 1,
   "id": "d26ce2f2",
   "metadata": {},
   "outputs": [],
   "source": [
    "x = 50\n",
    "y = 2"
   ]
  },
  {
   "cell_type": "code",
   "execution_count": 2,
   "id": "cf26dcfb",
   "metadata": {},
   "outputs": [
    {
     "name": "stdout",
     "output_type": "stream",
     "text": [
      "52\n",
      "48\n",
      "100\n",
      "25.0\n"
     ]
    }
   ],
   "source": [
    "print(x + y)\n",
    "print(x - y)\n",
    "print(x * y)\n",
    "print(x / y)"
   ]
  },
  {
   "cell_type": "code",
   "execution_count": 3,
   "id": "471fef0f",
   "metadata": {},
   "outputs": [
    {
     "name": "stdout",
     "output_type": "stream",
     "text": [
      "2500\n",
      "25\n",
      "0\n"
     ]
    }
   ],
   "source": [
    "print(x ** y)\n",
    "print(x // y) #retorna o número inteiro da divisão\n",
    "print(x % y) #retorna o resto da divisão"
   ]
  },
  {
   "cell_type": "code",
   "execution_count": 5,
   "id": "2c16f0da",
   "metadata": {},
   "outputs": [],
   "source": [
    "tem_cafe = True\n",
    "tem_pao = False"
   ]
  },
  {
   "cell_type": "code",
   "execution_count": 6,
   "id": "22154d27",
   "metadata": {},
   "outputs": [
    {
     "name": "stdout",
     "output_type": "stream",
     "text": [
      "False\n"
     ]
    }
   ],
   "source": [
    "print(not tem_cafe)"
   ]
  },
  {
   "cell_type": "code",
   "execution_count": 7,
   "id": "adecf56a",
   "metadata": {},
   "outputs": [
    {
     "name": "stdout",
     "output_type": "stream",
     "text": [
      "True\n"
     ]
    }
   ],
   "source": [
    "print(tem_cafe or tem_pao)"
   ]
  },
  {
   "cell_type": "code",
   "execution_count": 8,
   "id": "5f27de83",
   "metadata": {},
   "outputs": [
    {
     "name": "stdout",
     "output_type": "stream",
     "text": [
      "False\n"
     ]
    }
   ],
   "source": [
    "print(tem_cafe and tem_pao)"
   ]
  },
  {
   "cell_type": "markdown",
   "id": "4ef14f47",
   "metadata": {},
   "source": [
    "# Operadores Relacionais"
   ]
  },
  {
   "cell_type": "code",
   "execution_count": 10,
   "id": "7dfce7b7",
   "metadata": {},
   "outputs": [],
   "source": [
    "dolar = 5.3\n",
    "real = 1"
   ]
  },
  {
   "cell_type": "code",
   "execution_count": 11,
   "id": "6a555df8",
   "metadata": {},
   "outputs": [
    {
     "name": "stdout",
     "output_type": "stream",
     "text": [
      "True\n",
      "False\n",
      "False\n",
      "True\n",
      "False\n",
      "True\n"
     ]
    }
   ],
   "source": [
    "print(dolar > real)\n",
    "print(dolar < real)\n",
    "print(dolar == real)\n",
    "print(dolar >= real)\n",
    "print(dolar <= real)\n",
    "print(dolar != real)"
   ]
  },
  {
   "cell_type": "markdown",
   "id": "d62f7f22",
   "metadata": {},
   "source": [
    "# Estruturas Sequenciais"
   ]
  },
  {
   "cell_type": "code",
   "execution_count": 15,
   "id": "f37f23fb",
   "metadata": {},
   "outputs": [
    {
     "name": "stdout",
     "output_type": "stream",
     "text": [
      "Informe a sua idade: 29\n",
      "29 <class 'str'>\n"
     ]
    }
   ],
   "source": [
    "idade = input(\"Informe a sua idade: \")\n",
    "print(idade, type(idade))"
   ]
  },
  {
   "cell_type": "code",
   "execution_count": 16,
   "id": "bb161ca9",
   "metadata": {},
   "outputs": [
    {
     "name": "stdout",
     "output_type": "stream",
     "text": [
      "Digite o valor do seu salário mensal: 7300\n",
      "Digite o valor do seu gasto mensal em média: 6900\n",
      "O montante que você pode economizar no final do ano é de 4800.0\n"
     ]
    }
   ],
   "source": [
    "salario_mensal = float(input('Digite o valor do seu salário mensal: '))\n",
    "gasto_mensal = float(input('Digite o valor do seu gasto mensal em média: '))\n",
    "\n",
    "salario_total = salario_mensal * 12\n",
    "gasto_total = gasto_mensal * 12\n",
    "\n",
    "montante_economizado = salario_total - gasto_total\n",
    "print('O montante que você pode economizar no final do ano é de', montante_economizado)"
   ]
  },
  {
   "cell_type": "code",
   "execution_count": null,
   "id": "b5a58133",
   "metadata": {},
   "outputs": [],
   "source": []
  }
 ],
 "metadata": {
  "kernelspec": {
   "display_name": "Python 3 (ipykernel)",
   "language": "python",
   "name": "python3"
  },
  "language_info": {
   "codemirror_mode": {
    "name": "ipython",
    "version": 3
   },
   "file_extension": ".py",
   "mimetype": "text/x-python",
   "name": "python",
   "nbconvert_exporter": "python",
   "pygments_lexer": "ipython3",
   "version": "3.9.12"
  }
 },
 "nbformat": 4,
 "nbformat_minor": 5
}
