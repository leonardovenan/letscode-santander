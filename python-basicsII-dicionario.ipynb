{
 "cells": [
  {
   "cell_type": "markdown",
   "id": "ffb640ba",
   "metadata": {},
   "source": [
    "# Dicionários"
   ]
  },
  {
   "cell_type": "code",
   "execution_count": 1,
   "id": "0a66e701",
   "metadata": {},
   "outputs": [],
   "source": [
    "dados_cidades = {\n",
    "    'nome': 'São Paulo',\n",
    "    'estado': 'São Paulo',\n",
    "    'area_km2' : 1521,\n",
    "    'populacao_milhoes': 12.18,\n",
    "}"
   ]
  },
  {
   "cell_type": "code",
   "execution_count": 2,
   "id": "b3766338",
   "metadata": {},
   "outputs": [
    {
     "name": "stdout",
     "output_type": "stream",
     "text": [
      "<class 'dict'>\n"
     ]
    }
   ],
   "source": [
    "print(type(dados_cidades))"
   ]
  },
  {
   "cell_type": "code",
   "execution_count": 3,
   "id": "cac42147",
   "metadata": {},
   "outputs": [
    {
     "name": "stdout",
     "output_type": "stream",
     "text": [
      "{'nome': 'São Paulo', 'estado': 'São Paulo', 'area_km2': 1521, 'populacao_milhoes': 12.18}\n"
     ]
    }
   ],
   "source": [
    "print(dados_cidades)"
   ]
  },
  {
   "cell_type": "code",
   "execution_count": 9,
   "id": "effd3ca5",
   "metadata": {},
   "outputs": [],
   "source": [
    "#adição\n",
    "dados_cidades['pais'] = 'Brasil'"
   ]
  },
  {
   "cell_type": "code",
   "execution_count": 5,
   "id": "c977dc29",
   "metadata": {},
   "outputs": [
    {
     "name": "stdout",
     "output_type": "stream",
     "text": [
      "{'nome': 'São Paulo', 'estado': 'São Paulo', 'area_km2': 1521, 'populacao_milhoes': 12.18, 'pais': 'Brasil'}\n"
     ]
    }
   ],
   "source": [
    "print(dados_cidades)"
   ]
  },
  {
   "cell_type": "code",
   "execution_count": 10,
   "id": "dbabb6d0",
   "metadata": {},
   "outputs": [
    {
     "name": "stdout",
     "output_type": "stream",
     "text": [
      "São Paulo\n"
     ]
    }
   ],
   "source": [
    "#busca\n",
    "print(dados_cidades['nome'])"
   ]
  },
  {
   "cell_type": "code",
   "execution_count": 11,
   "id": "cc8f5333",
   "metadata": {},
   "outputs": [
    {
     "name": "stdout",
     "output_type": "stream",
     "text": [
      "{'nome': 'São Paulo', 'estado': 'São Paulo', 'area_km2': 1500, 'populacao_milhoes': 12.18, 'pais': 'Brasil'}\n"
     ]
    }
   ],
   "source": [
    "#alteração\n",
    "dados_cidades['area_km2'] = 1500\n",
    "print(dados_cidades)"
   ]
  },
  {
   "cell_type": "code",
   "execution_count": 12,
   "id": "3f94a2f0",
   "metadata": {},
   "outputs": [],
   "source": [
    "dados_cidades_2 = dados_cidades"
   ]
  },
  {
   "cell_type": "code",
   "execution_count": 14,
   "id": "bb93e938",
   "metadata": {},
   "outputs": [],
   "source": [
    "dados_cidades_2['nome'] = 'Santos'"
   ]
  },
  {
   "cell_type": "code",
   "execution_count": 15,
   "id": "69274ab1",
   "metadata": {},
   "outputs": [
    {
     "name": "stdout",
     "output_type": "stream",
     "text": [
      "{'nome': 'Santos', 'estado': 'São Paulo', 'area_km2': 1500, 'populacao_milhoes': 12.18, 'pais': 'Brasil'}\n"
     ]
    }
   ],
   "source": [
    "print(dados_cidades_2)"
   ]
  },
  {
   "cell_type": "code",
   "execution_count": 16,
   "id": "7dd861d1",
   "metadata": {},
   "outputs": [
    {
     "name": "stdout",
     "output_type": "stream",
     "text": [
      "{'nome': 'Santos', 'estado': 'São Paulo', 'area_km2': 1500, 'populacao_milhoes': 12.18, 'pais': 'Brasil'}\n"
     ]
    }
   ],
   "source": [
    "print(dados_cidades)"
   ]
  },
  {
   "cell_type": "code",
   "execution_count": 19,
   "id": "192ddc88",
   "metadata": {},
   "outputs": [],
   "source": [
    "dados_cidades_3 = dados_cidades.copy()"
   ]
  },
  {
   "cell_type": "code",
   "execution_count": 21,
   "id": "05613d1a",
   "metadata": {},
   "outputs": [],
   "source": [
    "dados_cidades_3['estado'] = 'Rio de Janeiro'"
   ]
  },
  {
   "cell_type": "code",
   "execution_count": 22,
   "id": "7f47a176",
   "metadata": {},
   "outputs": [
    {
     "name": "stdout",
     "output_type": "stream",
     "text": [
      "{'nome': 'Santos', 'estado': 'São Paulo', 'area_km2': 1500, 'populacao_milhoes': 12.18, 'pais': 'Brasil'}\n"
     ]
    }
   ],
   "source": [
    "print(dados_cidades)"
   ]
  },
  {
   "cell_type": "code",
   "execution_count": 23,
   "id": "096ce082",
   "metadata": {},
   "outputs": [
    {
     "name": "stdout",
     "output_type": "stream",
     "text": [
      "{'nome': 'Santos', 'estado': 'Rio de Janeiro', 'area_km2': 1500, 'populacao_milhoes': 12.18, 'pais': 'Brasil'}\n"
     ]
    }
   ],
   "source": [
    "print(dados_cidades_3)"
   ]
  },
  {
   "cell_type": "code",
   "execution_count": 24,
   "id": "b24da194",
   "metadata": {},
   "outputs": [],
   "source": [
    "novos_dados = {\n",
    "    'populacao_milhoes': 15,\n",
    "    'fundacao': '25/01/1554'\n",
    "}"
   ]
  },
  {
   "cell_type": "code",
   "execution_count": 25,
   "id": "72ba5861",
   "metadata": {},
   "outputs": [
    {
     "name": "stdout",
     "output_type": "stream",
     "text": [
      "{'nome': 'Santos', 'estado': 'São Paulo', 'area_km2': 1500, 'populacao_milhoes': 15, 'pais': 'Brasil', 'fundacao': '25/01/1554'}\n"
     ]
    }
   ],
   "source": [
    "dados_cidades.update(novos_dados)\n",
    "print(dados_cidades)"
   ]
  },
  {
   "cell_type": "code",
   "execution_count": 26,
   "id": "095a9968",
   "metadata": {},
   "outputs": [
    {
     "name": "stdout",
     "output_type": "stream",
     "text": [
      "dict_keys(['nome', 'estado', 'area_km2', 'populacao_milhoes', 'pais', 'fundacao'])\n",
      "------------\n",
      "dict_values(['Santos', 'São Paulo', 1500, 15, 'Brasil', '25/01/1554'])\n",
      "------------\n",
      "dict_items([('nome', 'Santos'), ('estado', 'São Paulo'), ('area_km2', 1500), ('populacao_milhoes', 15), ('pais', 'Brasil'), ('fundacao', '25/01/1554')])\n"
     ]
    }
   ],
   "source": [
    "print(dados_cidades.keys())\n",
    "print('------------')\n",
    "print(dados_cidades.values())\n",
    "print('------------')\n",
    "print(dados_cidades.items())"
   ]
  },
  {
   "cell_type": "code",
   "execution_count": null,
   "id": "01bf7b61",
   "metadata": {},
   "outputs": [],
   "source": []
  }
 ],
 "metadata": {
  "kernelspec": {
   "display_name": "Python 3 (ipykernel)",
   "language": "python",
   "name": "python3"
  },
  "language_info": {
   "codemirror_mode": {
    "name": "ipython",
    "version": 3
   },
   "file_extension": ".py",
   "mimetype": "text/x-python",
   "name": "python",
   "nbconvert_exporter": "python",
   "pygments_lexer": "ipython3",
   "version": "3.9.12"
  }
 },
 "nbformat": 4,
 "nbformat_minor": 5
}
