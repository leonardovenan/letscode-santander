{
 "cells": [
  {
   "cell_type": "code",
   "execution_count": 1,
   "id": "cc37cd50",
   "metadata": {},
   "outputs": [],
   "source": [
    "def hello():\n",
    "    print('hello world!')"
   ]
  },
  {
   "cell_type": "code",
   "execution_count": 2,
   "id": "52efe2dd",
   "metadata": {},
   "outputs": [
    {
     "name": "stdout",
     "output_type": "stream",
     "text": [
      "hello world!\n"
     ]
    }
   ],
   "source": [
    "hello()"
   ]
  },
  {
   "cell_type": "code",
   "execution_count": 6,
   "id": "0a904c3c",
   "metadata": {},
   "outputs": [],
   "source": [
    "def calcular_media(x, y, z):\n",
    "    media = (x + y + z)/3\n",
    "    return media"
   ]
  },
  {
   "cell_type": "code",
   "execution_count": 8,
   "id": "41c7e247",
   "metadata": {},
   "outputs": [
    {
     "name": "stdout",
     "output_type": "stream",
     "text": [
      "9.0\n"
     ]
    }
   ],
   "source": [
    "resultado = calcular_media(10, 9, 8)\n",
    "print(resultado)"
   ]
  },
  {
   "cell_type": "code",
   "execution_count": 9,
   "id": "eefdccad",
   "metadata": {},
   "outputs": [],
   "source": [
    "def calcular_media(x = 0, y = 0, z = 0):\n",
    "    media = (x + y + z)/3\n",
    "    return media"
   ]
  },
  {
   "cell_type": "code",
   "execution_count": 10,
   "id": "bf2cd375",
   "metadata": {},
   "outputs": [
    {
     "name": "stdout",
     "output_type": "stream",
     "text": [
      "0.0\n"
     ]
    }
   ],
   "source": [
    "resultado2 = calcular_media()\n",
    "print(resultado2)"
   ]
  },
  {
   "cell_type": "code",
   "execution_count": null,
   "id": "a400dab6",
   "metadata": {},
   "outputs": [],
   "source": []
  }
 ],
 "metadata": {
  "kernelspec": {
   "display_name": "Python 3 (ipykernel)",
   "language": "python",
   "name": "python3"
  },
  "language_info": {
   "codemirror_mode": {
    "name": "ipython",
    "version": 3
   },
   "file_extension": ".py",
   "mimetype": "text/x-python",
   "name": "python",
   "nbconvert_exporter": "python",
   "pygments_lexer": "ipython3",
   "version": "3.9.12"
  }
 },
 "nbformat": 4,
 "nbformat_minor": 5
}
