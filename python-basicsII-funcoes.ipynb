{
 "cells": [
  {
   "cell_type": "code",
   "execution_count": 1,
   "id": "b4dfba86",
   "metadata": {},
   "outputs": [],
   "source": [
    "def hello():\n",
    "    print('hello world!')"
   ]
  },
  {
   "cell_type": "code",
   "execution_count": 2,
   "id": "c9ff9d67",
   "metadata": {},
   "outputs": [
    {
     "name": "stdout",
     "output_type": "stream",
     "text": [
      "hello world!\n"
     ]
    }
   ],
   "source": [
    "hello()"
   ]
  },
  {
   "cell_type": "code",
   "execution_count": 6,
   "id": "a4f772d2",
   "metadata": {},
   "outputs": [],
   "source": [
    "def calcular_media(x, y, z):\n",
    "    media = (x + y + z)/3\n",
    "    return media"
   ]
  },
  {
   "cell_type": "code",
   "execution_count": 8,
   "id": "e7cf7d8a",
   "metadata": {},
   "outputs": [
    {
     "name": "stdout",
     "output_type": "stream",
     "text": [
      "9.0\n"
     ]
    }
   ],
   "source": [
    "resultado = calcular_media(10, 9, 8)\n",
    "print(resultado)"
   ]
  },
  {
   "cell_type": "code",
   "execution_count": 9,
   "id": "e111a3ee",
   "metadata": {},
   "outputs": [],
   "source": [
    "def calcular_media(x = 0, y = 0, z = 0):\n",
    "    media = (x + y + z)/3\n",
    "    return media"
   ]
  },
  {
   "cell_type": "code",
   "execution_count": 10,
   "id": "091a7be9",
   "metadata": {},
   "outputs": [
    {
     "name": "stdout",
     "output_type": "stream",
     "text": [
      "0.0\n"
     ]
    }
   ],
   "source": [
    "resultado2 = calcular_media()\n",
    "print(resultado2)"
   ]
  },
  {
   "cell_type": "code",
   "execution_count": 11,
   "id": "e4e6f23e",
   "metadata": {},
   "outputs": [],
   "source": [
    "def calcular_media(*args):\n",
    "    print(args, type(args))"
   ]
  },
  {
   "cell_type": "code",
   "execution_count": 12,
   "id": "121a9bf6",
   "metadata": {},
   "outputs": [
    {
     "name": "stdout",
     "output_type": "stream",
     "text": [
      "(10, 8, 9) <class 'tuple'>\n"
     ]
    }
   ],
   "source": [
    "calcular_media(10, 8, 9)"
   ]
  },
  {
   "cell_type": "code",
   "execution_count": 13,
   "id": "db9153b4",
   "metadata": {},
   "outputs": [],
   "source": [
    "def calcular_media(*args):\n",
    "    soma = sum(args)\n",
    "    media = soma / len(args)\n",
    "    return media"
   ]
  },
  {
   "cell_type": "code",
   "execution_count": 15,
   "id": "3805e54a",
   "metadata": {},
   "outputs": [
    {
     "data": {
      "text/plain": [
       "9.0"
      ]
     },
     "execution_count": 15,
     "metadata": {},
     "output_type": "execute_result"
    }
   ],
   "source": [
    "calcular_media(9, 10, 9, 10, 7)"
   ]
  },
  {
   "cell_type": "code",
   "execution_count": 17,
   "id": "15f63bdc",
   "metadata": {},
   "outputs": [],
   "source": [
    "def calcular_media2(*args, margem):\n",
    "    soma = sum(args)\n",
    "    media = soma / len(args)\n",
    "    return media + margem"
   ]
  },
  {
   "cell_type": "code",
   "execution_count": 18,
   "id": "d28ffaf2",
   "metadata": {},
   "outputs": [
    {
     "data": {
      "text/plain": [
       "9.7"
      ]
     },
     "execution_count": 18,
     "metadata": {},
     "output_type": "execute_result"
    }
   ],
   "source": [
    "calcular_media2(10, 9, 10, 9, margem = 0.2)"
   ]
  },
  {
   "cell_type": "code",
   "execution_count": 19,
   "id": "91093ecd",
   "metadata": {},
   "outputs": [],
   "source": [
    "def print_info(**kwargs):\n",
    "    print(kwargs, type(kwargs))"
   ]
  },
  {
   "cell_type": "code",
   "execution_count": null,
   "id": "345e16f5",
   "metadata": {},
   "outputs": [],
   "source": [
    "print_info"
   ]
  }
 ],
 "metadata": {
  "kernelspec": {
   "display_name": "Python 3 (ipykernel)",
   "language": "python",
   "name": "python3"
  },
  "language_info": {
   "codemirror_mode": {
    "name": "ipython",
    "version": 3
   },
   "file_extension": ".py",
   "mimetype": "text/x-python",
   "name": "python",
   "nbconvert_exporter": "python",
   "pygments_lexer": "ipython3",
   "version": "3.9.12"
  }
 },
 "nbformat": 4,
 "nbformat_minor": 5
}
