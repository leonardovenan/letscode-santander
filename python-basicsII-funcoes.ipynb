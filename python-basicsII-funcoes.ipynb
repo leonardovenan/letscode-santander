{
 "cells": [
  {
   "cell_type": "code",
   "execution_count": 1,
   "id": "c12a3916",
   "metadata": {},
   "outputs": [],
   "source": [
    "def hello():\n",
    "    print('hello world!')"
   ]
  },
  {
   "cell_type": "code",
   "execution_count": 2,
   "id": "f9c6d830",
   "metadata": {},
   "outputs": [
    {
     "name": "stdout",
     "output_type": "stream",
     "text": [
      "hello world!\n"
     ]
    }
   ],
   "source": [
    "hello()"
   ]
  },
  {
   "cell_type": "code",
   "execution_count": 6,
   "id": "12256575",
   "metadata": {},
   "outputs": [],
   "source": [
    "def calcular_media(x, y, z):\n",
    "    media = (x + y + z)/3\n",
    "    return media"
   ]
  },
  {
   "cell_type": "code",
   "execution_count": 8,
   "id": "faceffc7",
   "metadata": {},
   "outputs": [
    {
     "name": "stdout",
     "output_type": "stream",
     "text": [
      "9.0\n"
     ]
    }
   ],
   "source": [
    "resultado = calcular_media(10, 9, 8)\n",
    "print(resultado)"
   ]
  },
  {
   "cell_type": "code",
   "execution_count": 9,
   "id": "50a1613e",
   "metadata": {},
   "outputs": [],
   "source": [
    "def calcular_media(x = 0, y = 0, z = 0):\n",
    "    media = (x + y + z)/3\n",
    "    return media"
   ]
  },
  {
   "cell_type": "code",
   "execution_count": 10,
   "id": "246fa988",
   "metadata": {},
   "outputs": [
    {
     "name": "stdout",
     "output_type": "stream",
     "text": [
      "0.0\n"
     ]
    }
   ],
   "source": [
    "resultado2 = calcular_media()\n",
    "print(resultado2)"
   ]
  },
  {
   "cell_type": "code",
   "execution_count": 11,
   "id": "dc90305f",
   "metadata": {},
   "outputs": [],
   "source": [
    "def calcular_media(*args):\n",
    "    print(args, type(args))"
   ]
  },
  {
   "cell_type": "code",
   "execution_count": 12,
   "id": "20b6249e",
   "metadata": {},
   "outputs": [
    {
     "name": "stdout",
     "output_type": "stream",
     "text": [
      "(10, 8, 9) <class 'tuple'>\n"
     ]
    }
   ],
   "source": [
    "calcular_media(10, 8, 9)"
   ]
  },
  {
   "cell_type": "code",
   "execution_count": 13,
   "id": "5aa5a124",
   "metadata": {},
   "outputs": [],
   "source": [
    "def calcular_media(*args):\n",
    "    soma = sum(args)\n",
    "    media = soma / len(args)\n",
    "    return media"
   ]
  },
  {
   "cell_type": "code",
   "execution_count": 15,
   "id": "981bd31c",
   "metadata": {},
   "outputs": [
    {
     "data": {
      "text/plain": [
       "9.0"
      ]
     },
     "execution_count": 15,
     "metadata": {},
     "output_type": "execute_result"
    }
   ],
   "source": [
    "calcular_media(9, 10, 9, 10, 7)"
   ]
  },
  {
   "cell_type": "code",
   "execution_count": 17,
   "id": "dad2a100",
   "metadata": {},
   "outputs": [],
   "source": [
    "def calcular_media2(*args, margem):\n",
    "    soma = sum(args)\n",
    "    media = soma / len(args)\n",
    "    return media + margem"
   ]
  },
  {
   "cell_type": "code",
   "execution_count": 18,
   "id": "2feb05e5",
   "metadata": {},
   "outputs": [
    {
     "data": {
      "text/plain": [
       "9.7"
      ]
     },
     "execution_count": 18,
     "metadata": {},
     "output_type": "execute_result"
    }
   ],
   "source": [
    "calcular_media2(10, 9, 10, 9, margem = 0.2)"
   ]
  },
  {
   "cell_type": "code",
   "execution_count": 19,
   "id": "c35db1b0",
   "metadata": {},
   "outputs": [],
   "source": [
    "def print_info(**kwargs):\n",
    "    print(kwargs, type(kwargs))"
   ]
  },
  {
   "cell_type": "code",
   "execution_count": 21,
   "id": "8364bfaa",
   "metadata": {},
   "outputs": [
    {
     "name": "stdout",
     "output_type": "stream",
     "text": [
      "{'nome': 'Leonardo', 'sobrenome': 'Venancio'} <class 'dict'>\n"
     ]
    }
   ],
   "source": [
    "print_info(nome='Leonardo', sobrenome='Venancio')"
   ]
  },
  {
   "cell_type": "code",
   "execution_count": null,
   "id": "ac18e8c9",
   "metadata": {},
   "outputs": [],
   "source": []
  }
 ],
 "metadata": {
  "kernelspec": {
   "display_name": "Python 3 (ipykernel)",
   "language": "python",
   "name": "python3"
  },
  "language_info": {
   "codemirror_mode": {
    "name": "ipython",
    "version": 3
   },
   "file_extension": ".py",
   "mimetype": "text/x-python",
   "name": "python",
   "nbconvert_exporter": "python",
   "pygments_lexer": "ipython3",
   "version": "3.9.12"
  }
 },
 "nbformat": 4,
 "nbformat_minor": 5
}
